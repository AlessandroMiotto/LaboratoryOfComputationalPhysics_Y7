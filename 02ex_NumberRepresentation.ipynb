{
 "cells": [
  {
   "cell_type": "markdown",
   "metadata": {},
   "source": [
    "1\\. Write a function that converts number representation, bin<->dec<->hex. (Clearly using the corresponding python built-in functions is not fair..)"
   ]
  },
  {
   "cell_type": "code",
   "execution_count": null,
   "metadata": {},
   "outputs": [
    {
     "data": {
      "text/plain": [
       "'0xFF'"
      ]
     },
     "execution_count": 19,
     "metadata": {},
     "output_type": "execute_result"
    }
   ],
   "source": [
    "def bin_to_dec(x):\n",
    "    string = f\"{x}\"[2:]\n",
    "    sum = 0\n",
    "    for i in range(len(string)):\n",
    "        sum += int(string[len(string) - i - 1]) * 2 **i\n",
    "    return sum\n",
    "\n",
    "def hex_to_dec(x):\n",
    "    string = f\"{x}\"[2:]\n",
    "    hex_vals = \"0123456789ABCDEF\"\n",
    "    sum = 0\n",
    "    for i in range(len(string)):\n",
    "        sum += hex_vals.index(string[len(string) - i - 1]) * 16 **i\n",
    "    return sum\n",
    "\n",
    "def dec_to_bin(x):\n",
    "    string = \"\"\n",
    "    while x > 0:\n",
    "        string += str(x % 2)\n",
    "        x = x // 2\n",
    "    return \"0b\" + string[::-1]\n",
    "\n",
    "def dec_to_hex(x):\n",
    "    string = \"\"\n",
    "    hex_vals = \"0123456789ABCDEF\"\n",
    "    while x > 0:\n",
    "        string += hex_vals[x % 16]\n",
    "        x = x // 16\n",
    "    return \"0x\" + string[::-1]\n",
    "\n",
    "def hex_to_bin(x):\n",
    "    return dec_to_bin(hex_to_dec(x))\n",
    "\n",
    "def bin_to_hex(x):\n",
    "    return dec_to_hex(bin_to_dec(x))\n",
    "\n",
    "bin_to_dec(\"0b10111\")\n",
    "dec_to_bin(23)\n",
    "hex_to_dec(\"0xFF\")\n",
    "dec_to_hex(255)\n"
   ]
  },
  {
   "cell_type": "markdown",
   "metadata": {},
   "source": [
    "2\\. Write a function that converts a 32 bit word into a single precision floating point (i.e. interprets the various bits as sign, mantissa and exponent)"
   ]
  },
  {
   "cell_type": "code",
   "execution_count": 2,
   "metadata": {},
   "outputs": [
    {
     "data": {
      "text/plain": [
       "12.375"
      ]
     },
     "execution_count": 2,
     "metadata": {},
     "output_type": "execute_result"
    }
   ],
   "source": [
    "def bin_to_float(x):\n",
    "    x = x[2:]\n",
    "    sign = (-1.0)**int(x[0])\n",
    "    exponent = sum([int(x[i+1]) * 2 ** (7-i) for i in range(8)]) - 127\n",
    "    mantissa = 1.0+sum([int(x[i+9]) * 2.0 ** (-1-i) for i in range(23)])\n",
    "    return sign*mantissa*2.0**(exponent)\n",
    "\n",
    "bin_to_float(\"0b00111110110000000000000000000000\")\n",
    "bin_to_float(\"0b01000001010001100000000000000000\")"
   ]
  },
  {
   "cell_type": "markdown",
   "metadata": {},
   "source": [
    "3\\. Write a program to determine the underflow and overflow limits (within a factor of 2) for python on your computer. \n",
    "\n",
    "**Tips**: define two variables inizialized to 1 and halve/double them enough time to exceed the under/over-flow limits  "
   ]
  },
  {
   "cell_type": "code",
   "execution_count": 3,
   "metadata": {},
   "outputs": [
    {
     "name": "stdout",
     "output_type": "stream",
     "text": [
      "Overflow limit 8.98846567431158e+307\n",
      "Underflow limit 5e-324\n"
     ]
    }
   ],
   "source": [
    "def get_max():\n",
    "    val = 1.0\n",
    "    while True:\n",
    "        if (val * 2.0) == float('inf'):\n",
    "            return val\n",
    "        val *= 2.0\n",
    "\n",
    "def get_min():\n",
    "    val = 1.0\n",
    "    while True:\n",
    "        if (val / 2.0) == 0.0:\n",
    "            return val\n",
    "        val /= 2.0\n",
    "\n",
    "print(\"Overflow limit\", get_max())\n",
    "print(\"Underflow limit\", get_min())"
   ]
  },
  {
   "cell_type": "markdown",
   "metadata": {},
   "source": [
    "4\\. Write a program to determine the machine precision\n",
    "\n",
    "**Tips**: define a new variable by adding a smaller and smaller value (proceeding similarly to prob. 2) to an original variable and check the point where the two are the same "
   ]
  },
  {
   "cell_type": "code",
   "execution_count": 4,
   "metadata": {},
   "outputs": [
    {
     "name": "stdout",
     "output_type": "stream",
     "text": [
      "Machine precision:  2.220446049250313e-16\n"
     ]
    }
   ],
   "source": [
    "def get_epsilon():\n",
    "    val = 1.0\n",
    "    while True:\n",
    "        if 1.0  + (val / 2.0) == 1.0:\n",
    "            return val\n",
    "        val /= 2.0\n",
    "\n",
    "print(\"Machine precision: \", get_epsilon())"
   ]
  },
  {
   "cell_type": "markdown",
   "metadata": {},
   "source": [
    "5\\. Write a function that takes in input three parameters $a$, $b$ and $c$ and prints out the two solutions to the quadratic equation $ax^2+bx+c=0$ using the standard formula:\n",
    "$$\n",
    "x=\\frac{-b\\pm\\sqrt{b^2-4ac}}{2a}\n",
    "$$\n",
    "\n",
    "(a) use the program to compute the solution for $a=0.001$, $b=1000$ and $c=0.001$\n",
    "\n",
    "(b) re-express the standard solution formula by multiplying top and bottom by $-b\\mp\\sqrt{b^2-4ac}$ and again find the solution for $a=0.001$, $b=1000$ and $c=0.001$. How does it compare with what previously obtained? Why?\n",
    "\n",
    "(c) write a function that compute the roots of a quadratic equation accurately in all cases"
   ]
  },
  {
   "cell_type": "code",
   "execution_count": 20,
   "metadata": {},
   "outputs": [
    {
     "name": "stdout",
     "output_type": "stream",
     "text": [
      "(-9.99875737761613e-07, -9999999.999999)\n",
      "(-1.0000000000001001e-06, -10001242.7768141)\n"
     ]
    }
   ],
   "source": [
    "import math\n",
    "\n",
    "def quadratic_a(a, b, c):\n",
    "    return ((-b+math.sqrt(b**2-4.0*a*c))/(2*a), (-b-math.sqrt(b**2-4.0*a*c))/(2*a))\n",
    "\n",
    "def quadratic_b(a, b, c):\n",
    "    return (4.0*a*c/(-2.0*a*(b+math.sqrt(b**2-4*a*c))), 4.0*a*c/(-2.0*a*(b-math.sqrt(b**2-4*a*c))))\n",
    "\n",
    "print(quadratic_a(0.0001, 1000, 0.001))\n",
    "print(quadratic_b(0.0001, 1000, 0.001))"
   ]
  },
  {
   "cell_type": "markdown",
   "metadata": {},
   "source": [
    "6\\. Write a program that implements the function $f(x)=x(x−1)$\n",
    "\n",
    "(a) Calculate the derivative of the function at the point $x = 1$ using the derivative definition:\n",
    "\n",
    "$$\n",
    "\\frac{{\\rm d}f}{{\\rm d}x} = \\lim_{\\delta\\to0} \\frac{f(x+\\delta)-f(x)}{\\delta}\n",
    "$$\n",
    "\n",
    "with $\\delta = 10^{−2}$. Calculate the true value of the same derivative analytically and compare with the answer your program gives. The two will not agree perfectly. Why not?\n",
    "\n",
    "(b) Repeat the calculation for $\\delta = 10^{−4}, 10^{−6}, 10^{−8}, 10^{−10}, 10^{−12}$ and $10^{−14}$. How does the accuracy scales with $\\delta$?"
   ]
  },
  {
   "cell_type": "code",
   "execution_count": 21,
   "metadata": {},
   "outputs": [
    {
     "name": "stdout",
     "output_type": "stream",
     "text": [
      "Analytical solution f'(1) = 2\n",
      "Delta 0.01 give f'(1) = 2.000000000000001\n",
      "Accuracy at delta 0.0001 is 1.1035616864774056e-13\n",
      "Accuracy at delta 1e-06 is 8.226685999090932e-11\n",
      "Accuracy at delta 1e-08 is 6.0774714150113596e-09\n",
      "Accuracy at delta 1e-10 is -8.274037099909037e-08\n",
      "Accuracy at delta 1e-12 is -8.89005823414557e-05\n",
      "Accuracy at delta 1e-14 is 0.0007992778373588916\n"
     ]
    }
   ],
   "source": [
    "def func(x):\n",
    "    return x*(x-1)\n",
    "\n",
    "def derivative(x, delta):\n",
    "    return (func(x+delta) - func(delta)) / delta\n",
    "\n",
    "print(\"Analytical solution f'(1) = 2\")\n",
    "print(\"Delta 0.01 give f'(1) =\", derivative(1.0, 0.01))\n",
    "\n",
    "[print(\"Accuracy at delta\", 10**(-2*i), \"is\", 2.0-derivative(1.0, 10**(-2*i))) for i in range(2,8)];"
   ]
  },
  {
   "cell_type": "markdown",
   "metadata": {},
   "source": [
    "7\\. Consider the integral of the semicircle of radius 1:\n",
    "$$\n",
    "I=\\int_{-1}^{1} \\sqrt(1-x^2) {\\rm d}x\n",
    "$$\n",
    "which it's known to be $I=\\frac{\\pi}{2}=1.57079632679...$.\n",
    "Alternatively we can use the Riemann definition of the integral:\n",
    "$$\n",
    "I=\\lim_{N\\to\\infty} \\sum_{k=1}^{N} h y_k \n",
    "$$\n",
    "\n",
    "with $h=2/N$ the width of each of the $N$ slices the domain is divided into and where\n",
    "$y_k$ is the value of the function at the $k-$th slice.\n",
    "\n",
    "(a) Write a programe to compute the integral with $N=100$. How does the result compares to the true value?\n",
    "\n",
    "(b) How much can $N$ be increased if the computation needs to be run in less than a second? What is the gain in running it for 1 minute? \n"
   ]
  },
  {
   "cell_type": "code",
   "execution_count": 22,
   "metadata": {},
   "outputs": [
    {
     "data": {
      "text/plain": [
       "1.5691342555492498"
      ]
     },
     "execution_count": 22,
     "metadata": {},
     "output_type": "execute_result"
    }
   ],
   "source": [
    "import math\n",
    "\n",
    "def func(x):\n",
    "    return math.sqrt(1.0-x**2)\n",
    "\n",
    "def riemann_integration(f, N, x1, x2):\n",
    "    h = (x2-x1)/N\n",
    "    return sum([f(x1+i*h)*h for i in range(N)])\n",
    "\n",
    "riemann_integration(func, 100, -1, 1)"
   ]
  }
 ],
 "metadata": {
  "kernelspec": {
   "display_name": "base",
   "language": "python",
   "name": "python3"
  },
  "language_info": {
   "codemirror_mode": {
    "name": "ipython",
    "version": 3
   },
   "file_extension": ".py",
   "mimetype": "text/x-python",
   "name": "python",
   "nbconvert_exporter": "python",
   "pygments_lexer": "ipython3",
   "version": "3.12.2"
  }
 },
 "nbformat": 4,
 "nbformat_minor": 2
}
